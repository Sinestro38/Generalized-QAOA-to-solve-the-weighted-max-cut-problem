{
 "cells": [
  {
   "cell_type": "markdown",
   "metadata": {},
   "source": [
    "# Generalized Weighted Max-cut Solver"
   ]
  },
  {
   "cell_type": "code",
   "execution_count": 1,
   "metadata": {},
   "outputs": [
    {
     "data": {
      "image/png": "[encoded data removed]",
      "text/plain": [
       "<Figure size 432x288 with 1 Axes>"
      ]
     },
     "metadata": {},
     "output_type": "display_data"
    }
   ],
   "source": [
    "import networkx as nx\n",
    "from matplotlib import pyplot as plt\n",
    "\n",
    "\"\"\"INPUTS -- ENTER NUMBER OF NODES AND EDGE SPECIFICATIONS HERE\"\"\"\n",
    "nodes = range(3) # Insert the number of nodes on your graph in the range function\n",
    "# Each edge in following array is formatted as (start_node, end_node, weight)\n",
    "E     =[(0,1,0.5), (1,2,0.2), (2,0,0.8)]\n",
    "# End of input area\n",
    "\n",
    "### Visualize graph\n",
    "G = nx.Graph() \n",
    "G.add_nodes_from(nodes)\n",
    "G.add_weighted_edges_from(E)\n",
    "\n",
    "def draw_networkx(colors=None):\n",
    "    elarge = [(u, v) for (u, v, d) in G.edges(data=True) if d[\"weight\"] > 0.7]\n",
    "    emedium = [(u, v) for (u, v, d) in G.edges(data=True) if d[\"weight\"] <= 0.7 and d[\"weight\"] > 0.4]\n",
    "    esmall = [(u, v) for (u, v, d) in G.edges(data=True) if d[\"weight\"] <= 0.4]\n",
    "\n",
    "    pos          = nx.spring_layout(G, seed=7)\n",
    "    default_axis = plt.axes(frameon=False)\n",
    "\n",
    "    nx.draw_networkx_edges(G, pos, edgelist=elarge, width=8, alpha=0.9, edge_color=\"tab:blue\")\n",
    "    nx.draw_networkx_edges(G, pos, edgelist=emedium, width=8, alpha=0.7, edge_color=\"skyblue\")\n",
    "    nx.draw_networkx_edges(G, pos, edgelist=esmall, width=8, alpha=0.5, edge_color=\"lightblue\", style=\"dashed\")\n",
    "    # labels\n",
    "    nx.draw_networkx_labels(G, pos, font_size=20, font_family=\"sans-serif\")\n",
    "    nx.draw_networkx_nodes(G, pos, node_size=700, node_color=colors)\n",
    "    ax = plt.gca()\n",
    "    ax.margins(0.08)\n",
    "    plt.axis(\"off\")\n",
    "    plt.tight_layout()\n",
    "    plt.show()\n",
    "draw_networkx()"
   ]
  },
  {
   "cell_type": "code",
   "execution_count": 2,
   "metadata": {},
   "outputs": [],
   "source": [
    "import cirq\n",
    "import numpy as np\n",
    "import math\n",
    "from matplotlib import pyplot as plt\n",
    "import random\n",
    "from scipy.optimize import minimize"
   ]
  },
  {
   "cell_type": "code",
   "execution_count": 3,
   "metadata": {},
   "outputs": [],
   "source": [
    "# Defines the list of qubits\n",
    "num = len(nodes)\n",
    "depth = 4\n",
    "shots = 1024\n",
    "qubits = [cirq.GridQubit(0, i) for i in range(0, num)]\n",
    "\n",
    "\"\"\"Initializes all qubits into uniform superposition\"\"\"\n",
    "def initialization(qubits):\n",
    "    for i in qubits:\n",
    "        yield cirq.H.on(i)"
   ]
  },
  {
   "cell_type": "code",
   "execution_count": 4,
   "metadata": {},
   "outputs": [],
   "source": [
    "\"\"\"Defines the cost unitary -- encodes time evolution of cost Hamiltonian\"\"\"\n",
    "def cost_unitary(qubits, gamma):\n",
    "    for i in E:\n",
    "        start_node = i[0]    #start node of edge\n",
    "        end_node = i[1]      #end node of edge\n",
    "        w = i[2]             #weight of edge\n",
    "        # Encoding time evolution operator (exponentiated cost Hamiltonian) onto circuit\n",
    "        yield cirq.ZZPowGate(exponent=-1*w*gamma/math.pi).on(qubits[start_node], qubits[end_node])\n",
    "\n",
    "\"\"\"Defines the mixer unitary -- encodes time evolution of Hamiltonian that doesn't commute with cost Hamiltonian\"\"\"\n",
    "def mixer_unitary(qubits, alpha):\n",
    "    for i in range(0, len(qubits)):\n",
    "        # Increasing the probability of measurement for states marked by cost unitary \n",
    "        yield cirq.XPowGate(exponent=-1*alpha/math.pi).on(qubits[i])"
   ]
  },
  {
   "cell_type": "code",
   "execution_count": 5,
   "metadata": {},
   "outputs": [],
   "source": [
    "\"\"\"Executes the circuit\"\"\"\n",
    "def create_circuit(params):\n",
    "    gamma = [params[0], params[2], params[4], params[6]] # parameters for each cost layer\n",
    "    alpha = [params[1], params[3], params[5], params[7]] # parameters for each mixer layer\n",
    "\n",
    "    circuit = cirq.Circuit()\n",
    "    circuit.append(initialization(qubits)) # Initializing all qubits by applying a Hadamard transform\n",
    "    \n",
    "    \"\"\"For each layer, append a cost layer and a mixer layer to the circuit consecutively with the matching parameters\"\"\"\n",
    "    for i in range(0, depth):\n",
    "        circuit.append(cost_unitary(qubits, gamma[i]))\n",
    "        circuit.append(mixer_unitary(qubits, alpha[i]))\n",
    "    \n",
    "    circuit.append(cirq.measure(*qubits, key='x')) # Measure the circuit\n",
    "\n",
    "    \"\"\"Conducts several shots of the circuit to inspect probability distribution and output bitstrings that were measured\"\"\"\n",
    "    simulator = cirq.Simulator()\n",
    "    results = simulator.run(circuit, repetitions=shots)\n",
    "    results = str(results)[2:].split(\", \")\n",
    "    new_res = []\n",
    "    for i in range(0, shots):\n",
    "        hold = []\n",
    "        for j in range(0, num):\n",
    "            hold.append(int(results[j][i]))\n",
    "        new_res.append(hold)\n",
    "    return new_res"
   ]
  },
  {
   "cell_type": "markdown",
   "metadata": {},
   "source": [
    "Now, we are able to create our cost function, in order to post-process the data measured from the quantum circuit executions. The cost function we made here returns a negative value (dependant on the weight) if the nodes are coloured differently and returns 0 if they are coloured the same. Thus, the objective is to minimize the cost function."
   ]
  },
  {
   "cell_type": "code",
   "execution_count": 6,
   "metadata": {},
   "outputs": [],
   "source": [
    "\"\"\"Defines the cost function -- runs one epoch\"\"\"\n",
    "def cost_function(params): \n",
    "    res = create_circuit(params)\n",
    "    total_cost = 0\n",
    "    \"\"\"Iterate over each result\"\"\"\n",
    "    for i in range(0, len(res)):\n",
    "        \"\"\"Iterate over each edge in each result\"\"\"\n",
    "        for j in E:\n",
    "            start_node = j[0]\n",
    "            end_node = j[1]\n",
    "            w = j[2]\n",
    "            \"\"\"Calculate the cost of each edge and add it to the total cost\"\"\"\n",
    "            total_cost = total_cost + -1*(w*res[i][start_node]*(1-res[i][end_node]) + w*res[i][end_node]*(1-res[i][start_node]))\n",
    "    \n",
    "    \"\"\"Calculates the average cost over 1000 repitions of the algorithm\"\"\"\n",
    "    total_cost = float(total_cost)/shots \n",
    "    print(\"Cost: \"+str(total_cost))\n",
    "\n",
    "    return total_cost"
   ]
  },
  {
   "cell_type": "code",
   "execution_count": 7,
   "metadata": {},
   "outputs": [
    {
     "name": "stdout",
     "output_type": "stream",
     "text": [
      "Cost minimization: \n",
      "--------------------------\n",
      "Cost: -0.8538085937499951\n",
      "Cost: -0.5631835937500003\n",
      "Cost: -0.2087890624999998\n",
      "Cost: -0.54345703125\n",
      "Cost: -1.108886718749988\n",
      "Cost: -0.8933593749999912\n",
      "Cost: -0.8572265624999955\n",
      "Cost: -1.0756835937499913\n",
      "Cost: -0.44179687500000137\n",
      "Cost: -0.4959960937500023\n",
      "Cost: -1.1374999999999882\n",
      "Cost: -1.1358398437499886\n",
      "Cost: -1.0105468749999986\n",
      "Cost: -1.191113281249985\n",
      "Cost: -1.1601562499999862\n",
      "Cost: -1.1182617187499897\n",
      "Cost: -1.097558593749986\n",
      "Cost: -1.158593749999986\n",
      "Cost: -1.1954101562499821\n",
      "Cost: -1.218749999999981\n",
      "Cost: -1.173046874999982\n",
      "Cost: -1.2312499999999809\n",
      "Cost: -1.1737304687499825\n",
      "Cost: -1.2474609374999797\n",
      "Cost: -1.2161132812499809\n",
      "Cost: -1.2424804687499802\n",
      "Cost: -1.1970703124999824\n",
      "Cost: -1.2457031249999795\n",
      "Cost: -1.2153320312499811\n",
      "Cost: -1.177929687499982\n",
      "Cost: -1.2344726562499804\n",
      "Cost: -1.2472656249999794\n",
      "Cost: -1.22880859374998\n",
      "Cost: -1.2494140624999794\n",
      "Cost: -1.2477539062499792\n",
      "Cost: -1.2409179687499803\n",
      "Cost: -1.24257812499998\n",
      "Cost: -1.2461914062499801\n",
      "Cost: -1.23613281249998\n",
      "Cost: -1.2537109374999793\n",
      "Cost: -1.2499023437499803\n",
      "Cost: -1.2572265624999794\n",
      "Cost: -1.260058593749979\n",
      "Cost: -1.256542968749979\n",
      "Cost: -1.255468749999979\n",
      "Cost: -1.2539062499999796\n",
      "Cost: -1.24863281249998\n",
      "Cost: -1.2525390624999801\n",
      "Cost: -1.2479492187499799\n",
      "Cost: -1.25107421874998\n",
      "Cost: -1.257128906249979\n",
      "Cost: -1.2481445312499801\n",
      "Cost: -1.2516601562499794\n",
      "Cost: -1.24648437499998\n",
      "Cost: -1.2503906249999797\n",
      "Cost: -1.2586914062499794\n",
      "Cost: -1.254101562499979\n",
      "Cost: -1.2478515624999802\n",
      "Cost: -1.2538085937499794\n",
      "Cost: -1.254101562499979\n",
      "Cost: -1.2552734374999794\n",
      "Cost: -1.2534179687499796\n",
      "Cost: -1.2541992187499797\n",
      "Cost: -1.2557617187499794\n",
      "Cost: -1.24863281249998\n",
      "Cost: -1.2547851562499794\n",
      "Cost: -1.24726562499998\n",
      "Cost: -1.2559570312499793\n",
      "Cost: -1.2639648437499786\n",
      "Cost: -1.2533203124999797\n",
      "Cost: -1.260156249999979\n",
      "Cost: -1.2556640624999793\n",
      "Cost: -1.2518554687499794\n",
      "Cost: -1.2511718749999794\n",
      "Cost: -1.253808593749979\n",
      "Cost: -1.2512695312499797\n",
      "Cost: -1.25078124999998\n",
      "Cost: -1.25166015624998\n",
      "Cost: -1.2563476562499796\n",
      "Cost: -1.2553710937499793\n",
      "Cost: -1.2500976562499801\n",
      "Cost: -1.2542968749999794\n",
      "Cost: -1.2510742187499793\n",
      "Cost: -1.2574218749999793\n",
      "Cost: -1.2519531249999791\n",
      "Cost: -1.2519531249999798\n",
      "Cost: -1.2530273437499793\n",
      "Cost: -1.2536132812499798\n",
      "Cost: -1.2527343749999795\n"
     ]
    }
   ],
   "source": [
    "\"\"\"Defines a classical optimizer to tune the gamma and alpha parameters to minimize the expected value of the cost function\"\"\"\n",
    "init =[float(random.randint(-314, 314))/float(100) for i in range(0, 8)]\n",
    "print(\"Cost minimization: \\n--------------------------\")\n",
    "out = minimize(cost_function, x0=init, method=\"COBYLA\", options={'maxiter':100})\n",
    "\n",
    "optimal_params = out['x']\n",
    "f = create_circuit(optimal_params)"
   ]
  },
  {
   "cell_type": "code",
   "execution_count": 8,
   "metadata": {},
   "outputs": [],
   "source": [
    "\"\"\"Given a list of results and corresponding frequency, this function outputs the 2 solutions\"\"\"\n",
    "def get_max_and_secondmax(freq, nums, want_second_max):\n",
    "    first_solution = nums[freq.index(np.amax(freq))]\n",
    "\n",
    "    mx=max(freq[0],freq[1]) \n",
    "    secondmax=min(freq[0],freq[1])\n",
    "    n =len(freq)\n",
    "    for i in range(2,n):\n",
    "        if freq[i]>mx: \n",
    "            secondmax=mx\n",
    "            mx=freq[i] \n",
    "        elif freq[i]>secondmax and \\\n",
    "            mx != freq[i]: \n",
    "            secondmax=freq[i]\n",
    "    second_solution = nums[freq.index(secondmax)]\n",
    "    \n",
    "    if want_second_max == \"Yes\":\n",
    "        return first_solution, second_solution\n",
    "    else:\n",
    "        return first_solution"
   ]
  },
  {
   "cell_type": "code",
   "execution_count": 9,
   "metadata": {},
   "outputs": [
    {
     "data": {
      "image/png": "[encoded data removed]",
      "text/plain": [
       "<Figure size 576x396 with 1 Axes>"
      ]
     },
     "metadata": {},
     "output_type": "display_data"
    }
   ],
   "source": [
    "\"\"\"Plots histogram of results from optimized QAOA circuit\"\"\"\n",
    "nums = []\n",
    "freq = []\n",
    "\n",
    "### Iterating through all results and calculating frequency of results\n",
    "for i in range(0, len(f)):\n",
    "    number = 0\n",
    "    # Converting result bit string into integer value\n",
    "    for j in range(0, len(f[i])):\n",
    "        number += 2**(len(f[i])-j-1)*f[i][j]\n",
    "    # Recording result\n",
    "    if (number in nums):\n",
    "        freq[nums.index(number)] += 1\n",
    "    else:\n",
    "        nums.append(number)\n",
    "        freq.append(1)\n",
    "\n",
    "freq = [s/sum(freq) for s in freq] # Scaling frequencies to sum to one\n",
    "\n",
    "x = range(0, 2**num)\n",
    "y = []\n",
    "for i in range(0, len(x)):\n",
    "    if (i in nums):\n",
    "        y.append(freq[nums.index(i)])\n",
    "    else:\n",
    "        y.append(0)\n",
    "\n",
    "plt.style.use(\"seaborn\")\n",
    "plt.bar(x, y)\n",
    "plt.show()"
   ]
  },
  {
   "cell_type": "markdown",
   "metadata": {},
   "source": [
    "Above you can see a histogram showing the probabilities corresponding to each bitstring. Since this has been run on the optimal parameters, we know that the two states with the highest probability of being measured are the solutions to our weighted max-cut problem! As you can see, in this simple case the states with highest probability of measurement are $|3⟩ = |011⟩$ and $|4⟩ = |100⟩$. Notice why we have *two* optimal solutions, both $|2\\rangle$ and $|13\\rangle$ have the maximum cut. This is because the  actual set a given node belongs to doesn't matter as long as the difference between the node sets stays the same. Thus, $|011\\rangle$ and $|100\\rangle$ have the same cut! I implore you to check it on your own."
   ]
  },
  {
   "cell_type": "code",
   "execution_count": 10,
   "metadata": {},
   "outputs": [
    {
     "name": "stdout",
     "output_type": "stream",
     "text": [
      "\n",
      " ------------------------------------------------------------------------------------------------------------------------------ \n",
      "  The two solutions for your weighted max-cut graph is 4 (100) and 3 (011)!\n",
      " ------------------------------------------------------------------------------------------------------------------------------ \n",
      "\n"
     ]
    }
   ],
   "source": [
    "top_int_solution, second_int_solution = get_max_and_secondmax(freq, nums, \"Yes\")\n",
    "print(f\"\\n --------------------------------------------------------------------------------------------------------------------\\\n",
    "---------- \\n  The two solutions for your weighted max-cut graph is {top_int_solution} \\\n",
    "({np.binary_repr(top_int_solution, width=len(f[100]))}) and {second_int_solution} \\\n",
    "({np.binary_repr(second_int_solution, width=len(f[100]))})!\\n -------------------------------------------------------------\\\n",
    "----------------------------------------------------------------- \\n\")"
   ]
  },
  {
   "cell_type": "code",
   "execution_count": 11,
   "metadata": {},
   "outputs": [],
   "source": [
    "\"\"\"Retrieving top solution in binary--value indicates which set the node belongs to\"\"\"\n",
    "nums_bin = []\n",
    "freq_bin = []\n",
    "\n",
    "### Iterating through all results and calculating frequency of results\n",
    "for i in range(0, len(f)):\n",
    "    # Recording result\n",
    "    if (f[i] in nums_bin):\n",
    "        freq_bin[nums_bin.index(f[i])] += 1\n",
    "    else:\n",
    "        nums_bin.append(f[i])\n",
    "        freq_bin.append(1)\n",
    "top_bin_solution = get_max_and_secondmax(freq_bin, nums_bin, \"No\")"
   ]
  },
  {
   "cell_type": "code",
   "execution_count": 12,
   "metadata": {},
   "outputs": [
    {
     "name": "stdout",
     "output_type": "stream",
     "text": [
      "Solution graph (4 [1, 0, 0]):\n"
     ]
    },
    {
     "data": {
      "image/png": "[encoded data removed]",
      "text/plain": [
       "<Figure size 576x396 with 1 Axes>"
      ]
     },
     "metadata": {},
     "output_type": "display_data"
    }
   ],
   "source": [
    "\"\"\"Visualizing graph with Max-Cut colouring\"\"\"\n",
    "colors = [] #setting up a list of colors\n",
    "for node in top_bin_solution:\n",
    "    if node == 0:\n",
    "        colors.append(\"green\")\n",
    "    else:\n",
    "        colors.append(\"red\")\n",
    "\n",
    "print(f\"Solution graph ({top_int_solution} {top_bin_solution}):\")\n",
    "draw_networkx(colors)"
   ]
  },
  {
   "cell_type": "markdown",
   "metadata": {},
   "source": [
    "# Example with new graph"
   ]
  },
  {
   "cell_type": "code",
   "execution_count": 13,
   "metadata": {},
   "outputs": [
    {
     "data": {
      "image/png": "[encoded data removed]",
      "text/plain": [
       "<Figure size 576x396 with 1 Axes>"
      ]
     },
     "metadata": {},
     "output_type": "display_data"
    }
   ],
   "source": [
    "\"\"\"INPUTS -- ENTER NUMBER OF NODES AND EDGE SPECIFICATIONS HERE\"\"\"\n",
    "nodes = range(7) # Insert the number of nodes on your graph in the range function\n",
    "# Each edge in following array is formatted as (start_node, end_node, weight)\n",
    "E     =[(0,1,0.2), (0,5,0.5), (1,3,0.7), (2,6,0.3), (2,3,0.8), (2,4,1), (3,5,0.1), (4,5,0.5)]\n",
    "# End of input area\n",
    "\n",
    "### Visualize graph\n",
    "G = nx.Graph() \n",
    "G.add_nodes_from(nodes)\n",
    "G.add_weighted_edges_from(E)\n",
    "\n",
    "draw_networkx()"
   ]
  },
  {
   "cell_type": "code",
   "execution_count": 14,
   "metadata": {},
   "outputs": [
    {
     "name": "stdout",
     "output_type": "stream",
     "text": [
      "Cost minimization: \n",
      "--------------------------\n",
      "Cost: -1.7484374999999905\n",
      "Cost: -1.5180664062499925\n",
      "Cost: -2.0736328124999863\n",
      "Cost: -1.787109374999985\n",
      "Cost: -2.0645507812499884\n",
      "Cost: -2.1103515624999853\n",
      "Cost: -2.547265624999982\n",
      "Cost: -2.3293945312499744\n",
      "Cost: -2.2716796874999727\n",
      "Cost: -2.2256835937499644\n",
      "Cost: -2.66484374999999\n",
      "Cost: -2.5698242187499782\n",
      "Cost: -2.5552734374999817\n",
      "Cost: -2.493945312499981\n",
      "Cost: -2.8056640624999822\n",
      "Cost: -2.9702148437499742\n",
      "Cost: -3.008300781249969\n",
      "Cost: -3.0488281249999845\n",
      "Cost: -3.0021484374999807\n",
      "Cost: -2.8073242187499856\n",
      "Cost: -3.2949218749999662\n",
      "Cost: -3.1220703124999627\n",
      "Cost: -3.236816406249974\n",
      "Cost: -3.1053710937499712\n",
      "Cost: -3.327246093749967\n",
      "Cost: -3.3103515624999647\n",
      "Cost: -3.2953124999999774\n",
      "Cost: -3.1264648437499827\n",
      "Cost: -3.154980468749972\n",
      "Cost: -3.2319335937499756\n",
      "Cost: -3.2587890624999796\n",
      "Cost: -3.2966796874999797\n",
      "Cost: -3.3009765624999745\n",
      "Cost: -3.305078124999975\n",
      "Cost: -3.303906249999976\n",
      "Cost: -3.328222656249975\n",
      "Cost: -3.3635742187499726\n",
      "Cost: -3.343652343749971\n",
      "Cost: -3.3475585937499703\n",
      "Cost: -3.3425781249999673\n",
      "Cost: -3.3434570312499705\n",
      "Cost: -3.3114257812499757\n",
      "Cost: -3.362402343749969\n",
      "Cost: -3.323730468749968\n",
      "Cost: -3.33378906249997\n",
      "Cost: -3.3420898437499655\n",
      "Cost: -3.3471679687499694\n",
      "Cost: -3.3490234374999743\n",
      "Cost: -3.3739257812499726\n",
      "Cost: -3.3569335937499676\n",
      "Cost: -3.327636718749969\n",
      "Cost: -3.345507812499971\n",
      "Cost: -3.371484374999967\n",
      "Cost: -3.3287109374999613\n",
      "Cost: -3.348730468749967\n",
      "Cost: -3.334863281249972\n",
      "Cost: -3.299707031249973\n",
      "Cost: -3.3448242187499693\n",
      "Cost: -3.339062499999969\n",
      "Cost: -3.361035156249975\n",
      "Cost: -3.3438476562499684\n",
      "Cost: -3.342187499999971\n",
      "Cost: -3.350878906249967\n",
      "Cost: -3.3354492187499676\n",
      "Cost: -3.3553710937499654\n",
      "Cost: -3.299804687499966\n",
      "Cost: -3.366894531249974\n",
      "Cost: -3.298437499999975\n",
      "Cost: -3.369824218749971\n",
      "Cost: -3.312792968749963\n",
      "Cost: -3.3273437499999674\n",
      "Cost: -3.3590820312499696\n",
      "Cost: -3.359374999999976\n",
      "Cost: -3.339257812499969\n",
      "Cost: -3.3320312499999707\n",
      "Cost: -3.3703124999999687\n",
      "Cost: -3.3450195312499718\n",
      "Cost: -3.356542968749971\n",
      "Cost: -3.362890624999967\n",
      "Cost: -3.342480468749966\n",
      "Cost: -3.3696289062499707\n",
      "Cost: -3.355664062499973\n",
      "Cost: -3.3456054687499726\n",
      "Cost: -3.350097656249966\n",
      "Cost: -3.329882812499963\n",
      "Cost: -3.35175781249997\n"
     ]
    }
   ],
   "source": [
    "# Defines the list of qubits\n",
    "num = len(nodes)\n",
    "depth = 4\n",
    "shots = 1024\n",
    "qubits = [cirq.GridQubit(0, i) for i in range(0, num)]\n",
    "\n",
    "\"\"\"Defines a classical optimizer to tune the gamma and alpha parameters to minimize the expected value of the cost function\"\"\"\n",
    "init =[float(random.randint(-314, 314))/float(100) for i in range(0, 8)]\n",
    "print(\"Cost minimization: \\n--------------------------\")\n",
    "out = minimize(cost_function, x0=init, method=\"COBYLA\", options={'maxiter':100})\n",
    "\n",
    "optimal_params = out['x']\n",
    "f = create_circuit(optimal_params)"
   ]
  },
  {
   "cell_type": "code",
   "execution_count": 15,
   "metadata": {},
   "outputs": [],
   "source": [
    "\"\"\"Retrieving top solution in binary--value indicates which set the node belongs to\"\"\"\n",
    "nums_bin = []\n",
    "freq_bin = []\n",
    "\n",
    "### Iterating through all results and calculating frequency of results\n",
    "for i in range(0, len(f)):\n",
    "    # Recording result\n",
    "    if (f[i] in nums_bin):\n",
    "        freq_bin[nums_bin.index(f[i])] += 1\n",
    "    else:\n",
    "        nums_bin.append(f[i])\n",
    "        freq_bin.append(1)\n",
    "top_bin_solution = get_max_and_secondmax(freq_bin, nums_bin, \"No\")"
   ]
  },
  {
   "cell_type": "code",
   "execution_count": 16,
   "metadata": {},
   "outputs": [
    {
     "data": {
      "image/png": "[encoded data removed]",
      "text/plain": [
       "<Figure size 576x396 with 1 Axes>"
      ]
     },
     "metadata": {},
     "output_type": "display_data"
    },
    {
     "name": "stdout",
     "output_type": "stream",
     "text": [
      "\n",
      " ------------------------------------------------------------------------------------------------------------------------------ \n",
      "  The two solutions for your weighted max-cut graph is 50 (0110010) and 77 (1001101)!\n",
      " ------------------------------------------------------------------------------------------------------------------------------ \n",
      "\n"
     ]
    }
   ],
   "source": [
    "nums = []\n",
    "freq = []\n",
    "\n",
    "### Iterating through all results and calculating frequency of results\n",
    "for i in range(0, len(f)):\n",
    "    number = 0\n",
    "    # Converting result bit string into integer value\n",
    "    for j in range(0, len(f[i])):\n",
    "        number += 2**(len(f[i])-j-1)*f[i][j]\n",
    "    # Recording result\n",
    "    if (number in nums):\n",
    "        freq[nums.index(number)] += 1\n",
    "    else:\n",
    "        nums.append(number)\n",
    "        freq.append(1)\n",
    "\n",
    "freq = [s/sum(freq) for s in freq] \n",
    "\n",
    "x = range(0, 2**num)\n",
    "y = []\n",
    "for i in range(0, len(x)):\n",
    "    if (i in nums):\n",
    "        y.append(freq[nums.index(i)])\n",
    "    else:\n",
    "        y.append(0)\n",
    "\n",
    "plt.style.use(\"seaborn\")\n",
    "plt.bar(x, y)\n",
    "plt.show()\n",
    "\n",
    "top_int_solution, second_int_solution = get_max_and_secondmax(freq, nums, \"Yes\")\n",
    "print(f\"\\n --------------------------------------------------------------------------------------------------------------------\\\n",
    "---------- \\n  The two solutions for your weighted max-cut graph is {top_int_solution} \\\n",
    "({np.binary_repr(top_int_solution, width=len(f[100]))}) and {second_int_solution} \\\n",
    "({np.binary_repr(second_int_solution, width=len(f[100]))})!\\n -------------------------------------------------------------\\\n",
    "----------------------------------------------------------------- \\n\")"
   ]
  },
  {
   "cell_type": "code",
   "execution_count": 17,
   "metadata": {},
   "outputs": [
    {
     "name": "stdout",
     "output_type": "stream",
     "text": [
      "Solution graph colouring (50 [0, 1, 1, 0, 0, 1, 0]):\n"
     ]
    },
    {
     "data": {
      "image/png": "[encoded data removed]",
      "text/plain": [
       "<Figure size 576x396 with 1 Axes>"
      ]
     },
     "metadata": {},
     "output_type": "display_data"
    }
   ],
   "source": [
    "\"\"\"Visualizing graph with Max-Cut colouring\"\"\"\n",
    "colors = [] #setting up a list of colors\n",
    "for node in top_bin_solution:\n",
    "    if node == 0:\n",
    "        colors.append(\"green\")\n",
    "    else:\n",
    "        colors.append(\"red\")\n",
    "\n",
    "print(f\"Solution graph colouring ({top_int_solution} {top_bin_solution}):\")\n",
    "draw_networkx(colors=colors)"
   ]
  }
 ],
 "metadata": {
  "kernelspec": {
   "display_name": "qiskit",
   "language": "python",
   "name": "qiskit"
  },
  "language_info": {
   "codemirror_mode": {
    "name": "ipython",
    "version": 3
   },
   "file_extension": ".py",
   "mimetype": "text/x-python",
   "name": "python",
   "nbconvert_exporter": "python",
   "pygments_lexer": "ipython3",
   "version": "3.8.3"
  }
 },
 "nbformat": 4,
 "nbformat_minor": 4
}
