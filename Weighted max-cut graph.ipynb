{
 "cells": [
  {
   "cell_type": "markdown",
   "metadata": {},
   "source": [
    "# Generalized Weighted Max-cut Solver"
   ]
  },
  {
   "cell_type": "code",
   "execution_count": 215,
   "metadata": {},
   "outputs": [
    {
     "data": {
      "image/png": "[encoded data removed]",
      "text/plain": [
       "<Figure size 576x396 with 1 Axes>"
      ]
     },
     "metadata": {},
     "output_type": "display_data"
    }
   ],
   "source": [
    "import networkx as nx\n",
    "from matplotlib import pyplot as plt\n",
    "\n",
    "\"\"\"INPUTS -- ENTER NUMBER OF NODES AND EDGE SPECIFICATIONS HERE\"\"\"\n",
    "nodes = range(4)                                           # Insert the number of nodes on your graph in the range function\n",
    "E     =[(0,1,0.5),(1,2,2),(2,0,1.5), (2,3,1.7), (0,3,0.5)] # Each edge in array is formatted as (start_node, end_node, weight)\n",
    "\n",
    "### Visualize graph\n",
    "G = nx.Graph() \n",
    "G.add_nodes_from(nodes)\n",
    "G.add_weighted_edges_from(E)\n",
    "\n",
    "pos          = nx.spring_layout(G)\n",
    "default_axis = plt.axes(frameon=False)\n",
    "\n",
    "nx.draw_networkx(G, ax=default_axis)"
   ]
  },
  {
   "cell_type": "code",
   "execution_count": 216,
   "metadata": {},
   "outputs": [],
   "source": [
    "import cirq\n",
    "import numpy as np\n",
    "import math\n",
    "from matplotlib import pyplot as plt\n",
    "import random\n",
    "from scipy.optimize import minimize\n",
    "\n",
    "# Defines the list of qubits\n",
    "num = len(nodes)\n",
    "depth = 4\n",
    "shots = 1000\n",
    "qubits = [cirq.GridQubit(0, i) for i in range(0, num)]\n",
    "\n",
    "\"\"\"Initializes all qubits into uniform superposition\"\"\"\n",
    "def initialization(qubits):\n",
    "    for i in qubits:\n",
    "        yield cirq.H.on(i)"
   ]
  },
  {
   "cell_type": "code",
   "execution_count": 217,
   "metadata": {},
   "outputs": [],
   "source": [
    "\"\"\"Defines the cost unitary -- encodes time evolution of cost Hamiltonian\"\"\"\n",
    "def cost_unitary(qubits, gamma):\n",
    "    for i in E:\n",
    "        start_node = i[0]    #start node of edge\n",
    "        end_node = i[1]      #end node of edge\n",
    "        w = i[2]             #weight of edge\n",
    "        # Encoding time evolution operator (exponentiated cost Hamiltonian) onto circuit\n",
    "        yield cirq.ZZPowGate(exponent=-1*w*gamma/math.pi).on(qubits[start_node], qubits[end_node])\n",
    "\n",
    "\"\"\"Defines the mixer unitary -- encodes time evolution of Hamiltonian that doesn't commute with cost Hamiltonian\"\"\"\n",
    "def mixer_unitary(qubits, alpha):\n",
    "    for i in range(0, len(qubits)):\n",
    "        # Increasing the probability of measurement for states marked by cost unitary \n",
    "        yield cirq.XPowGate(exponent=-1*alpha/math.pi).on(qubits[i])"
   ]
  },
  {
   "cell_type": "code",
   "execution_count": 218,
   "metadata": {},
   "outputs": [],
   "source": [
    "\"\"\"Executes the circuit\"\"\"\n",
    "def create_circuit(params):\n",
    "    gamma = [params[0], params[2], params[4], params[6]] # parameters for each cost layer\n",
    "    alpha = [params[1], params[3], params[5], params[7]] # parameters for each mixer layer\n",
    "\n",
    "    circuit = cirq.Circuit()\n",
    "    circuit.append(initialization(qubits)) # Initializing all qubits by applying a Hadamard transform\n",
    "    \n",
    "    \"\"\"For each layer, append a cost layer and a mixer layer to the circuit consecutively with the matching parameters\"\"\"\n",
    "    for i in range(0, depth):\n",
    "        circuit.append(cost_unitary(qubits, gamma[i]))\n",
    "        circuit.append(mixer_unitary(qubits, alpha[i]))\n",
    "    \n",
    "    circuit.append(cirq.measure(*qubits, key='x')) # Measure the circuit\n",
    "\n",
    "    \"\"\"Conducts several shots of the circuit to inspect probability distribution and output bitstrings that were measured\"\"\"\n",
    "    simulator = cirq.Simulator()\n",
    "    results = simulator.run(circuit, repetitions=shots)\n",
    "    results = str(results)[2:].split(\", \")\n",
    "    new_res = []\n",
    "    for i in range(0, shots):\n",
    "        hold = []\n",
    "        for j in range(0, num):\n",
    "            hold.append(int(results[j][i]))\n",
    "        new_res.append(hold)\n",
    "    return new_res"
   ]
  },
  {
   "cell_type": "markdown",
   "metadata": {},
   "source": [
    "Now, we are able to create our cost function, in order to post-process the data measured from the quantum circuit executions. The cost function we made here returns a negative value (dependant on the weight) if the nodes are coloured differently and returns 0 if they are coloured the same. Thus, the objective is to minimize the cost function."
   ]
  },
  {
   "cell_type": "code",
   "execution_count": 219,
   "metadata": {},
   "outputs": [],
   "source": [
    "\"\"\"Defines the cost function -- runs one epoch\"\"\"\n",
    "def cost_function(params): \n",
    "    res = create_circuit(params)\n",
    "    total_cost = 0\n",
    "    \"\"\"Iterate over each result\"\"\"\n",
    "    for i in range(0, len(res)):\n",
    "        \"\"\"Iterate over each edge in each result\"\"\"\n",
    "        for j in E:\n",
    "            start_node = j[0]\n",
    "            end_node = j[1]\n",
    "            w = j[2]\n",
    "            \"\"\"Calculate the cost of each edge and add it to the total cost\"\"\"\n",
    "            total_cost = total_cost + -1*(w*res[i][start_node]*(1-res[i][end_node]) + w*res[i][end_node]*(1-res[i][start_node]))\n",
    "    \n",
    "    \"\"\"Calculates the average cost over 1000 repitions of the algorithm\"\"\"\n",
    "    total_cost = float(total_cost)/shots \n",
    "    print(\"Cost: \"+str(total_cost))\n",
    "\n",
    "    return total_cost"
   ]
  },
  {
   "cell_type": "code",
   "execution_count": 220,
   "metadata": {},
   "outputs": [
    {
     "name": "stdout",
     "output_type": "stream",
     "text": [
      "Cost: -3.689699999999952\n",
      "Cost: -3.295199999999976\n",
      "Cost: -3.6761999999999526\n",
      "Cost: -1.284400000000003\n",
      "Cost: -2.8250999999999817\n",
      "Cost: -1.067600000000003\n",
      "Cost: -3.1290999999999665\n",
      "Cost: -3.5609999999999724\n",
      "Cost: -3.065599999999975\n",
      "Cost: -3.3553999999999795\n",
      "Cost: -1.7428000000000081\n",
      "Cost: -4.361499999999934\n",
      "Cost: -3.87489999999996\n",
      "Cost: -4.204099999999937\n",
      "Cost: -4.418099999999933\n",
      "Cost: -4.29179999999993\n",
      "Cost: -4.317099999999939\n",
      "Cost: -4.2596999999999365\n",
      "Cost: -3.900199999999944\n",
      "Cost: -4.530899999999927\n",
      "Cost: -4.209299999999938\n",
      "Cost: -4.623999999999934\n",
      "Cost: -3.9697999999999607\n",
      "Cost: -4.5365999999999325\n",
      "Cost: -4.671499999999932\n",
      "Cost: -4.634699999999931\n",
      "Cost: -4.662299999999928\n",
      "Cost: -4.670999999999929\n",
      "Cost: -4.70239999999993\n",
      "Cost: -4.636799999999935\n",
      "Cost: -4.641399999999937\n",
      "Cost: -4.751799999999927\n",
      "Cost: -4.756699999999924\n",
      "Cost: -4.8101999999999245\n",
      "Cost: -4.736799999999926\n",
      "Cost: -4.807999999999925\n",
      "Cost: -4.736299999999925\n",
      "Cost: -4.730199999999927\n",
      "Cost: -4.80909999999992\n",
      "Cost: -4.757199999999929\n",
      "Cost: -4.765099999999924\n",
      "Cost: -4.724399999999926\n",
      "Cost: -4.792499999999924\n",
      "Cost: -4.793899999999925\n",
      "Cost: -4.804799999999923\n",
      "Cost: -4.7639999999999265\n",
      "Cost: -4.787799999999925\n",
      "Cost: -4.790899999999923\n",
      "Cost: -4.750099999999925\n",
      "Cost: -4.787599999999924\n",
      "Cost: -4.738799999999927\n",
      "Cost: -4.747099999999927\n",
      "Cost: -4.770699999999925\n",
      "Cost: -4.757099999999927\n",
      "Cost: -4.770599999999924\n",
      "Cost: -4.741399999999929\n",
      "Cost: -4.743699999999927\n",
      "Cost: -4.785299999999924\n",
      "Cost: -4.750099999999927\n",
      "Cost: -4.766899999999922\n",
      "Cost: -4.759599999999925\n",
      "Cost: -4.805999999999922\n",
      "Cost: -4.799099999999925\n",
      "Cost: -4.765699999999924\n",
      "Cost: -4.747599999999924\n",
      "Cost: -4.781899999999924\n",
      "Cost: -4.759699999999926\n",
      "Cost: -4.793099999999925\n",
      "Cost: -4.774199999999923\n",
      "Cost: -4.795899999999924\n",
      "Cost: -4.759199999999925\n",
      "Cost: -4.783799999999925\n",
      "Cost: -4.791399999999925\n",
      "Cost: -4.780699999999924\n",
      "Cost: -4.7655999999999255\n",
      "Cost: -4.751399999999926\n",
      "Cost: -4.757899999999922\n",
      "Cost: -4.771599999999925\n",
      "Cost: -4.795399999999923\n",
      "Cost: -4.7472999999999255\n",
      "Cost: -4.738499999999926\n"
     ]
    },
    {
     "data": {
      "image/png": "[encoded data removed]",
      "text/plain": [
       "<Figure size 576x396 with 1 Axes>"
      ]
     },
     "metadata": {},
     "output_type": "display_data"
    }
   ],
   "source": [
    "\"\"\"Defines a classical optimizer to tune the gamma and alpha parameters to minimize the expected value of the cost function\"\"\"\n",
    "init =[float(random.randint(-314, 314))/float(100) for i in range(0, 8)]\n",
    "out = minimize(cost_function, x0=init, method=\"COBYLA\", options={'maxiter':100})\n",
    "\n",
    "optimal_params = out['x']\n",
    "f = create_circuit(optimal_params)\n",
    "\n",
    "\"\"\"Creates visualization of the optimal state\"\"\"\n",
    "nums = []\n",
    "freq = []\n",
    "\n",
    "### Iterating through all results and calculating frequency of results\n",
    "for i in range(0, len(f)):\n",
    "    number = 0\n",
    "    # Converting result bit string into integer value\n",
    "    for j in range(0, len(f[i])):\n",
    "        number += 2**(len(f[i])-j-1)*f[i][j]\n",
    "    # Recording result\n",
    "    if (number in nums):\n",
    "        freq[nums.index(number)] = freq[nums.index(number)] + 1\n",
    "    else:\n",
    "        nums.append(number)\n",
    "        freq.append(1)\n",
    "\n",
    "freq = [s/sum(freq) for s in freq] # Scaling frequencies to sum to one\n",
    "\n",
    "x = range(0, 2**num)\n",
    "y = []\n",
    "for i in range(0, len(x)):\n",
    "    if (i in nums):\n",
    "        y.append(freq[nums.index(i)])\n",
    "    else:\n",
    "        y.append(0)\n",
    "\n",
    "plt.style.use(\"seaborn\")\n",
    "plt.bar(x, y)\n",
    "plt.show()"
   ]
  },
  {
   "cell_type": "markdown",
   "metadata": {},
   "source": [
    "Above you can see a histogram showing the probabilities corresponding to each bitstring. Since this has been run on the optimal parameters, we know that the two states with the highest probability of being measured are the solutions to our weighted max-cut problem! As you can see, in this case the states with highest probability of measurement are $|2⟩ = |0010⟩$ and $|13⟩ = |1101⟩$. These are the two optimal solutions to MaxCut for our graph, I implore you to check it on your own! "
   ]
  }
 ],
 "metadata": {
  "kernelspec": {
   "display_name": "qiskit",
   "language": "python",
   "name": "qiskit"
  },
  "language_info": {
   "codemirror_mode": {
    "name": "ipython",
    "version": 3
   },
   "file_extension": ".py",
   "mimetype": "text/x-python",
   "name": "python",
   "nbconvert_exporter": "python",
   "pygments_lexer": "ipython3",
   "version": "3.8.3"
  }
 },
 "nbformat": 4,
 "nbformat_minor": 4
}
