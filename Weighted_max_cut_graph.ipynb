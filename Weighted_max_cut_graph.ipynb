{
  "nbformat": 4,
  "nbformat_minor": 0,
  "metadata": {
    "kernelspec": {
      "display_name": "qiskit",
      "language": "python",
      "name": "qiskit"
    },
    "language_info": {
      "codemirror_mode": {
        "name": "ipython",
        "version": 3
      },
      "file_extension": ".py",
      "mimetype": "text/x-python",
      "name": "python",
      "nbconvert_exporter": "python",
      "pygments_lexer": "ipython3",
      "version": "3.8.3"
    },
    "colab": {
      "name": "Weighted max-cut graph.ipynb",
      "provenance": [],
      "include_colab_link": true
    }
  },
  "cells": [
    {
      "cell_type": "markdown",
      "metadata": {
        "id": "view-in-github",
        "colab_type": "text"
      },
      "source": [
        "<a href=\"https://colab.research.google.com/github/Sinestro38/Generalized-QAOA-to-solve-the-weighted-max-cut-problem/blob/main/Weighted_max_cut_graph.ipynb\" target=\"_parent\"><img src=\"https://colab.research.google.com/assets/colab-badge.svg\" alt=\"Open In Colab\"/></a>"
      ]
    },
    {
      "cell_type": "markdown",
      "metadata": {
        "id": "xXHAULVafjoY"
      },
      "source": [
        "# Generalized Weighted Max-cut Solver"
      ]
    },
    {
      "cell_type": "markdown",
      "metadata": {
        "id": "YsELi3VBf6CD"
      },
      "source": [
        "A quick note: You can run all of the code blocks below by hovering your mouse over the brackets at the top left of each block and clicking the play button that appears. In order to run a block of code, you have to have already run the subsequent blocks (In other words you have to run the code blocks in order)"
      ]
    },
    {
      "cell_type": "markdown",
      "metadata": {
        "id": "W2nYqG8hgO7S"
      },
      "source": [
        "## Install packages"
      ]
    },
    {
      "cell_type": "code",
      "metadata": {
        "id": "iwiJoyUBjVri"
      },
      "source": [
        "!pip install cirq"
      ],
      "execution_count": null,
      "outputs": []
    },
    {
      "cell_type": "markdown",
      "metadata": {
        "id": "kkcglu09gcKp"
      },
      "source": [
        "# Algorithm implemented on a simple weighted graph"
      ]
    },
    {
      "cell_type": "code",
      "metadata": {
        "colab": {
          "base_uri": "https://localhost:8080/",
          "height": 297
        },
        "id": "vjVQTEHxfjof",
        "outputId": "2e6744ca-2a03-4f3a-a435-5bb28cf8d5a0"
      },
      "source": [
        "import networkx as nx\n",
        "from matplotlib import pyplot as plt\n",
        "\n",
        "\"\"\"INPUTS -- ENTER NUMBER OF NODES AND EDGE SPECIFICATIONS HERE\"\"\"\n",
        "nodes = range(3) # Insert the number of nodes on your graph in the range function\n",
        "# Each edge in following array is formatted as (start_node, end_node, weight)\n",
        "E     =[(0,1,0.5), (1,2,0.2), (2,0,0.8)]\n",
        "# End of input area\n",
        "\n",
        "### Visualize graph\n",
        "G = nx.Graph() \n",
        "G.add_nodes_from(nodes)\n",
        "G.add_weighted_edges_from(E)\n",
        "\n",
        "def draw_networkx(colors=None):\n",
        "    elarge = [(u, v) for (u, v, d) in G.edges(data=True) if d[\"weight\"] > 0.7]\n",
        "    emedium = [(u, v) for (u, v, d) in G.edges(data=True) if d[\"weight\"] <= 0.7 and d[\"weight\"] > 0.4]\n",
        "    esmall = [(u, v) for (u, v, d) in G.edges(data=True) if d[\"weight\"] <= 0.4]\n",
        "\n",
        "    pos          = nx.spring_layout(G, seed=7)\n",
        "    default_axis = plt.axes(frameon=False)\n",
        "\n",
        "    nx.draw_networkx_edges(G, pos, edgelist=elarge, width=8, alpha=0.9, edge_color=\"tab:blue\")\n",
        "    nx.draw_networkx_edges(G, pos, edgelist=emedium, width=8, alpha=0.7, edge_color=\"skyblue\")\n",
        "    nx.draw_networkx_edges(G, pos, edgelist=esmall, width=8, alpha=0.5, edge_color=\"lightblue\", style=\"dashed\")\n",
        "    # labels\n",
        "    nx.draw_networkx_labels(G, pos, font_size=20, font_family=\"sans-serif\")\n",
        "    nx.draw_networkx_nodes(G, pos, node_size=700, node_color=colors)\n",
        "    ax = plt.gca()\n",
        "    ax.margins(0.08)\n",
        "    plt.axis(\"off\")\n",
        "    plt.tight_layout()\n",
        "    plt.show()\n",
        "draw_networkx()"
      ],
      "execution_count": null,
      "outputs": [
        {
          "output_type": "display_data",
          "data": {
            "image/png": "[encoded data removed]",
            "text/plain": [
              "<Figure size 432x288 with 1 Axes>"
            ]
          },
          "metadata": {
            "tags": []
          }
        }
      ]
    },
    {
      "cell_type": "code",
      "metadata": {
        "id": "wRh2BXhJfjoh"
      },
      "source": [
        "import cirq\n",
        "import numpy as np\n",
        "import math\n",
        "from matplotlib import pyplot as plt\n",
        "import random\n",
        "from scipy.optimize import minimize"
      ],
      "execution_count": null,
      "outputs": []
    },
    {
      "cell_type": "code",
      "metadata": {
        "id": "H42U14RVfjoi"
      },
      "source": [
        "# Defines the list of qubits\n",
        "num = len(nodes)\n",
        "depth = 4\n",
        "shots = 1024\n",
        "qubits = [cirq.GridQubit(0, i) for i in range(0, num)]\n",
        "\n",
        "\"\"\"Initializes all qubits into uniform superposition\"\"\"\n",
        "def initialization(qubits):\n",
        "    for i in qubits:\n",
        "        yield cirq.H.on(i)"
      ],
      "execution_count": null,
      "outputs": []
    },
    {
      "cell_type": "code",
      "metadata": {
        "id": "-dtxsNmzfjoi"
      },
      "source": [
        "\"\"\"Defines the cost unitary -- encodes time evolution of cost Hamiltonian\"\"\"\n",
        "def cost_unitary(qubits, gamma):\n",
        "    for i in E:\n",
        "        start_node = i[0]    #start node of edge\n",
        "        end_node = i[1]      #end node of edge\n",
        "        w = i[2]             #weight of edge\n",
        "        # Encoding time evolution operator (exponentiated cost Hamiltonian) onto circuit\n",
        "        yield cirq.ZZPowGate(exponent=-1*w*gamma/math.pi).on(qubits[start_node], qubits[end_node])\n",
        "\n",
        "\"\"\"Defines the mixer unitary -- encodes time evolution of Hamiltonian that doesn't commute with cost Hamiltonian\"\"\"\n",
        "def mixer_unitary(qubits, alpha):\n",
        "    for i in range(0, len(qubits)):\n",
        "        # Increasing the probability of measurement for states marked by cost unitary \n",
        "        yield cirq.XPowGate(exponent=-1*alpha/math.pi).on(qubits[i])"
      ],
      "execution_count": null,
      "outputs": []
    },
    {
      "cell_type": "code",
      "metadata": {
        "id": "dKmqgtEjfjoj"
      },
      "source": [
        "\"\"\"Executes the circuit\"\"\"\n",
        "def create_circuit(params):\n",
        "    gamma = [params[0], params[2], params[4], params[6]] # parameters for each cost layer\n",
        "    alpha = [params[1], params[3], params[5], params[7]] # parameters for each mixer layer\n",
        "\n",
        "    circuit = cirq.Circuit()\n",
        "    circuit.append(initialization(qubits)) # Initializing all qubits by applying a Hadamard transform\n",
        "    \n",
        "    \"\"\"For each layer, append a cost layer and a mixer layer to the circuit consecutively with the matching parameters\"\"\"\n",
        "    for i in range(0, depth):\n",
        "        circuit.append(cost_unitary(qubits, gamma[i]))\n",
        "        circuit.append(mixer_unitary(qubits, alpha[i]))\n",
        "    \n",
        "    circuit.append(cirq.measure(*qubits, key='x')) # Measure the circuit\n",
        "\n",
        "    \"\"\"Conducts several shots of the circuit to inspect probability distribution and output bitstrings that were measured\"\"\"\n",
        "    simulator = cirq.Simulator()\n",
        "    results = simulator.run(circuit, repetitions=shots)\n",
        "    results = str(results)[2:].split(\", \")\n",
        "    new_res = []\n",
        "    for i in range(0, shots):\n",
        "        hold = []\n",
        "        for j in range(0, num):\n",
        "            hold.append(int(results[j][i]))\n",
        "        new_res.append(hold)\n",
        "    return new_res"
      ],
      "execution_count": null,
      "outputs": []
    },
    {
      "cell_type": "markdown",
      "metadata": {
        "id": "c_MFmCGrfjoj"
      },
      "source": [
        "Now, we are able to create our cost function, in order to post-process the data measured from the quantum circuit executions. The cost function we made here returns a negative value (dependant on the weight) if the nodes are coloured differently and returns 0 if they are coloured the same. Thus, the objective is to minimize the cost function."
      ]
    },
    {
      "cell_type": "code",
      "metadata": {
        "id": "kQfoyEi0fjoj"
      },
      "source": [
        "\"\"\"Defines the cost function -- runs one epoch\"\"\"\n",
        "def cost_function(params): \n",
        "    res = create_circuit(params)\n",
        "    total_cost = 0\n",
        "    \"\"\"Iterate over each result\"\"\"\n",
        "    for i in range(0, len(res)):\n",
        "        \"\"\"Iterate over each edge in each result\"\"\"\n",
        "        for j in E:\n",
        "            start_node = j[0]\n",
        "            end_node = j[1]\n",
        "            w = j[2]\n",
        "            \"\"\"Calculate the cost of each edge and add it to the total cost\"\"\"\n",
        "            total_cost = total_cost + -1*(w*res[i][start_node]*(1-res[i][end_node]) + w*res[i][end_node]*(1-res[i][start_node]))\n",
        "    \n",
        "    \"\"\"Calculates the average cost over 1000 repitions of the algorithm\"\"\"\n",
        "    total_cost = float(total_cost)/shots \n",
        "    print(\"Cost: \"+str(total_cost))\n",
        "\n",
        "    return total_cost"
      ],
      "execution_count": null,
      "outputs": []
    },
    {
      "cell_type": "code",
      "metadata": {
        "colab": {
          "base_uri": "https://localhost:8080/"
        },
        "id": "gttXGNIKfjok",
        "outputId": "4b150181-8ab1-408b-f63c-5f8b4a657fd7"
      },
      "source": [
        "\"\"\"Defines a classical optimizer to tune the gamma and alpha parameters to minimize the expected value of the cost function\"\"\"\n",
        "init =[float(random.randint(-314, 314))/float(100) for i in range(0, 8)]\n",
        "print(\"Cost minimization: \\n--------------------------\")\n",
        "out = minimize(cost_function, x0=init, method=\"COBYLA\", options={'maxiter':100})\n",
        "\n",
        "optimal_params = out['x']\n",
        "f = create_circuit(optimal_params)"
      ],
      "execution_count": null,
      "outputs": [
        {
          "output_type": "stream",
          "text": [
            "Cost minimization: \n",
            "--------------------------\n",
            "Cost: -0.6648437499999996\n",
            "Cost: -0.8997070312500035\n",
            "Cost: -0.860351562500004\n",
            "Cost: -0.664257812500001\n",
            "Cost: -0.2931640625000011\n",
            "Cost: -0.7821289062500016\n",
            "Cost: -0.7942382812500061\n",
            "Cost: -0.6629882812500009\n",
            "Cost: -0.8046875000000012\n",
            "Cost: -0.5465820312499994\n",
            "Cost: -0.8668945312500036\n",
            "Cost: -0.8868164062500011\n",
            "Cost: -0.920019531250002\n",
            "Cost: -0.8964843750000026\n",
            "Cost: -0.8916015625000029\n",
            "Cost: -0.9377929687500003\n",
            "Cost: -0.9911132812499979\n",
            "Cost: -0.9345703125000016\n",
            "Cost: -0.8984374999999986\n",
            "Cost: -0.9624023437499987\n",
            "Cost: -0.9702148437499978\n",
            "Cost: -1.07128906249999\n",
            "Cost: -1.0695312499999932\n",
            "Cost: -1.0811523437499904\n",
            "Cost: -1.1252929687499886\n",
            "Cost: -1.1957031249999828\n",
            "Cost: -1.1924804687499844\n",
            "Cost: -1.1907226562499833\n",
            "Cost: -1.215039062499983\n",
            "Cost: -1.2042968749999834\n",
            "Cost: -1.1898437499999845\n",
            "Cost: -1.207812499999983\n",
            "Cost: -1.1500976562499865\n",
            "Cost: -1.1893554687499848\n",
            "Cost: -1.199218749999982\n",
            "Cost: -1.2242187499999817\n",
            "Cost: -1.2219726562499822\n",
            "Cost: -1.2333984374999805\n",
            "Cost: -1.235742187499981\n",
            "Cost: -1.2254882812499814\n",
            "Cost: -1.2323242187499803\n",
            "Cost: -1.2330078124999821\n",
            "Cost: -1.2367187499999808\n",
            "Cost: -1.2182617187499818\n",
            "Cost: -1.223437499999981\n",
            "Cost: -1.2342773437499812\n",
            "Cost: -1.2296874999999816\n",
            "Cost: -1.232617187499981\n",
            "Cost: -1.2189453124999816\n",
            "Cost: -1.2138671874999825\n",
            "Cost: -1.2304687499999813\n",
            "Cost: -1.2305664062499813\n",
            "Cost: -1.229199218749981\n",
            "Cost: -1.2286132812499813\n",
            "Cost: -1.2259765624999817\n",
            "Cost: -1.2323242187499805\n",
            "Cost: -1.2260742187499818\n",
            "Cost: -1.2268554687499817\n",
            "Cost: -1.2244140624999815\n",
            "Cost: -1.2195312499999822\n",
            "Cost: -1.2274414062499817\n",
            "Cost: -1.2257812499999818\n",
            "Cost: -1.2196289062499825\n",
            "Cost: -1.2290039062499807\n",
            "Cost: -1.2293945312499817\n",
            "Cost: -1.2361328124999806\n",
            "Cost: -1.2156249999999813\n",
            "Cost: -1.2299804687499813\n",
            "Cost: -1.2307617187499813\n",
            "Cost: -1.2195312499999826\n",
            "Cost: -1.2356445312499809\n",
            "Cost: -1.2337890624999805\n",
            "Cost: -1.2208007812499826\n",
            "Cost: -1.2229492187499817\n",
            "Cost: -1.2236328124999816\n",
            "Cost: -1.2143554687499825\n",
            "Cost: -1.2272460937499816\n",
            "Cost: -1.2260742187499818\n",
            "Cost: -1.2222656249999817\n",
            "Cost: -1.2218749999999825\n",
            "Cost: -1.2138671874999825\n",
            "Cost: -1.2271484374999806\n",
            "Cost: -1.2165039062499827\n",
            "Cost: -1.2316406249999805\n",
            "Cost: -1.2280273437499816\n",
            "Cost: -1.2193359374999824\n",
            "Cost: -1.2319335937499818\n",
            "Cost: -1.2263671874999804\n",
            "Cost: -1.2148437499999822\n",
            "Cost: -1.2285156249999816\n",
            "Cost: -1.2285156249999811\n",
            "Cost: -1.2328124999999814\n"
          ],
          "name": "stdout"
        }
      ]
    },
    {
      "cell_type": "code",
      "metadata": {
        "id": "hY7QFIEQfjok"
      },
      "source": [
        "\"\"\"Given a list of results and corresponding frequency, this function outputs the 2 solutions\"\"\"\n",
        "def get_max_and_secondmax(freq, nums, want_second_max):\n",
        "    first_solution = nums[freq.index(np.amax(freq))]\n",
        "\n",
        "    mx=max(freq[0],freq[1]) \n",
        "    secondmax=min(freq[0],freq[1])\n",
        "    n =len(freq)\n",
        "    for i in range(2,n):\n",
        "        if freq[i]>mx: \n",
        "            secondmax=mx\n",
        "            mx=freq[i] \n",
        "        elif freq[i]>secondmax and \\\n",
        "            mx != freq[i]: \n",
        "            secondmax=freq[i]\n",
        "    second_solution = nums[freq.index(secondmax)]\n",
        "    \n",
        "    if want_second_max == \"Yes\":\n",
        "        return first_solution, second_solution\n",
        "    else:\n",
        "        return first_solution"
      ],
      "execution_count": null,
      "outputs": []
    },
    {
      "cell_type": "code",
      "metadata": {
        "colab": {
          "base_uri": "https://localhost:8080/",
          "height": 347
        },
        "id": "Lt2LUcNefjol",
        "outputId": "5f0c600f-f7c0-4316-f0f4-98fa12bce8ee"
      },
      "source": [
        "\"\"\"Plots histogram of results from optimized QAOA circuit\"\"\"\n",
        "nums = []\n",
        "freq = []\n",
        "\n",
        "### Iterating through all results and calculating frequency of results\n",
        "for i in range(0, len(f)):\n",
        "    number = 0\n",
        "    # Converting result bit string into integer value\n",
        "    for j in range(0, len(f[i])):\n",
        "        number += 2**(len(f[i])-j-1)*f[i][j]\n",
        "    # Recording result\n",
        "    if (number in nums):\n",
        "        freq[nums.index(number)] += 1\n",
        "    else:\n",
        "        nums.append(number)\n",
        "        freq.append(1)\n",
        "\n",
        "freq = [s/sum(freq) for s in freq] # Scaling frequencies to sum to one\n",
        "\n",
        "x = range(0, 2**num)\n",
        "y = []\n",
        "for i in range(0, len(x)):\n",
        "    if (i in nums):\n",
        "        y.append(freq[nums.index(i)])\n",
        "    else:\n",
        "        y.append(0)\n",
        "\n",
        "plt.style.use(\"seaborn\")\n",
        "plt.bar(x, y)\n",
        "plt.show()"
      ],
      "execution_count": null,
      "outputs": [
        {
          "output_type": "display_data",
          "data": {
            "image/png": "[encoded data removed]",
            "text/plain": [
              "<Figure size 576x396 with 1 Axes>"
            ]
          },
          "metadata": {
            "tags": []
          }
        }
      ]
    },
    {
      "cell_type": "markdown",
      "metadata": {
        "id": "3bAW1bSzfjom"
      },
      "source": [
        "Above you can see a histogram showing the probabilities corresponding to each bitstring. Since this has been run on the optimal parameters, we know that the two states with the highest probability of being measured are the solutions to our weighted max-cut problem! As you can see, in this simple case the states with highest probability of measurement are $|3\\rangle = |011\\rangle $ and $|4\\rangle = |100\\rangle $. Notice why we have *two* optimal solutions, both $|2\\rangle $ and $|13\\rangle $ have the maximum cut. This is because the  actual set a given node belongs to doesn't matter as long as the difference between the node sets stays the same. Thus, $|011\\rangle$ and $|100\\rangle$ have the same cut! I implore you to check it on your own. "
      ]
    },
    {
      "cell_type": "code",
      "metadata": {
        "colab": {
          "base_uri": "https://localhost:8080/"
        },
        "id": "KX2TbXXqfjom",
        "outputId": "416b26f8-4cfe-488a-9aa5-c36535d9e4f0"
      },
      "source": [
        "top_int_solution, second_int_solution = get_max_and_secondmax(freq, nums, \"Yes\")\n",
        "print(f\"\\n --------------------------------------------------------------------------------------------------------------------\\\n",
        "---------- \\n  The two solutions for your weighted max-cut graph is {top_int_solution} \\\n",
        "({np.binary_repr(top_int_solution, width=len(f[100]))}) and {second_int_solution} \\\n",
        "({np.binary_repr(second_int_solution, width=len(f[100]))})!\\n -------------------------------------------------------------\\\n",
        "----------------------------------------------------------------- \\n\")"
      ],
      "execution_count": null,
      "outputs": [
        {
          "output_type": "stream",
          "text": [
            "\n",
            " ------------------------------------------------------------------------------------------------------------------------------ \n",
            "  The two solutions for your weighted max-cut graph is 3 (011) and 4 (100)!\n",
            " ------------------------------------------------------------------------------------------------------------------------------ \n",
            "\n"
          ],
          "name": "stdout"
        }
      ]
    },
    {
      "cell_type": "code",
      "metadata": {
        "id": "Jv6UxOyufjon"
      },
      "source": [
        "\"\"\"Retrieving top solution in binary--value indicates which set the node belongs to\"\"\"\n",
        "nums_bin = []\n",
        "freq_bin = []\n",
        "\n",
        "### Iterating through all results and calculating frequency of results\n",
        "for i in range(0, len(f)):\n",
        "    # Recording result\n",
        "    if (f[i] in nums_bin):\n",
        "        freq_bin[nums_bin.index(f[i])] += 1\n",
        "    else:\n",
        "        nums_bin.append(f[i])\n",
        "        freq_bin.append(1)\n",
        "top_bin_solution = get_max_and_secondmax(freq_bin, nums_bin, \"No\")"
      ],
      "execution_count": null,
      "outputs": []
    },
    {
      "cell_type": "code",
      "metadata": {
        "colab": {
          "base_uri": "https://localhost:8080/",
          "height": 423
        },
        "id": "GC6l0oetfjoo",
        "outputId": "e0f6c9a7-ab16-4eb5-ba47-5cb3e5fceacd"
      },
      "source": [
        "\"\"\"Visualizing graph with Max-Cut colouring\"\"\"\n",
        "colors = [] #setting up a list of colors\n",
        "for node in top_bin_solution:\n",
        "    if node == 0:\n",
        "        colors.append(\"green\")\n",
        "    else:\n",
        "        colors.append(\"red\")\n",
        "\n",
        "print(f\"Solution graph ({top_int_solution} {top_bin_solution}):\")\n",
        "draw_networkx(colors)"
      ],
      "execution_count": null,
      "outputs": [
        {
          "output_type": "stream",
          "text": [
            "Solution graph (3 [0, 1, 1]):\n"
          ],
          "name": "stdout"
        },
        {
          "output_type": "display_data",
          "data": {
            "image/png": "[encoded data removed]",
            "text/plain": [
              "<Figure size 576x396 with 1 Axes>"
            ]
          },
          "metadata": {
            "tags": []
          }
        }
      ]
    },
    {
      "cell_type": "markdown",
      "metadata": {
        "id": "o_DVhSAcfjoo"
      },
      "source": [
        "# Demonstration on a more complex graph"
      ]
    },
    {
      "cell_type": "code",
      "metadata": {
        "colab": {
          "base_uri": "https://localhost:8080/",
          "height": 405
        },
        "id": "hxTm-Jq7fjoo",
        "outputId": "39e5356e-67e0-42d1-d843-f3b7a81c88cd"
      },
      "source": [
        "\"\"\"INPUTS -- ENTER NUMBER OF NODES AND EDGE SPECIFICATIONS HERE\"\"\"\n",
        "nodes = range(7) # Insert the number of nodes on your graph in the range function\n",
        "# Each edge in following array is formatted as (start_node, end_node, weight)\n",
        "E     =[(0,1,0.2), (0,5,0.5), (1,3,0.7), (2,6,0.3), (2,3,0.8), (2,4,1), (3,5,0.1), (4,5,0.5)]\n",
        "# End of input area\n",
        "\n",
        "### Visualize graph\n",
        "G = nx.Graph() \n",
        "G.add_nodes_from(nodes)\n",
        "G.add_weighted_edges_from(E)\n",
        "\n",
        "draw_networkx()"
      ],
      "execution_count": null,
      "outputs": [
        {
          "output_type": "display_data",
          "data": {
            "image/png": "[encoded data removed]",
            "text/plain": [
              "<Figure size 576x396 with 1 Axes>"
            ]
          },
          "metadata": {
            "tags": []
          }
        }
      ]
    },
    {
      "cell_type": "code",
      "metadata": {
        "colab": {
          "base_uri": "https://localhost:8080/"
        },
        "id": "hqub_MTzfjop",
        "outputId": "7353326a-7f4f-45ed-ccbd-0d08621d67ac"
      },
      "source": [
        "# Defines the list of qubits\n",
        "num = len(nodes)\n",
        "depth = 4\n",
        "shots = 1024\n",
        "qubits = [cirq.GridQubit(0, i) for i in range(0, num)]\n",
        "\n",
        "\"\"\"Defines a classical optimizer to tune the gamma and alpha parameters to minimize the expected value of the cost function\"\"\"\n",
        "init =[float(random.randint(-314, 314))/float(100) for i in range(0, 8)]\n",
        "print(\"Cost minimization: \\n--------------------------\")\n",
        "out = minimize(cost_function, x0=init, method=\"COBYLA\", options={'maxiter':100})\n",
        "\n",
        "optimal_params = out['x']\n",
        "f = create_circuit(optimal_params)"
      ],
      "execution_count": null,
      "outputs": [
        {
          "output_type": "stream",
          "text": [
            "Cost minimization: \n",
            "--------------------------\n",
            "Cost: -2.292578124999976\n",
            "Cost: -2.254296874999977\n",
            "Cost: -2.2498046874999806\n",
            "Cost: -2.2624999999999793\n",
            "Cost: -1.654296874999989\n",
            "Cost: -1.4681640624999952\n",
            "Cost: -2.020410156249997\n",
            "Cost: -1.9450195312499854\n",
            "Cost: -1.970605468749975\n",
            "Cost: -2.003906249999983\n",
            "Cost: -2.2238281249999803\n",
            "Cost: -2.3320312499999836\n",
            "Cost: -2.3062499999999786\n",
            "Cost: -2.2375976562499806\n",
            "Cost: -2.248339843749983\n",
            "Cost: -2.421386718749974\n",
            "Cost: -2.4293945312499754\n",
            "Cost: -2.4562499999999736\n",
            "Cost: -2.5013671874999672\n",
            "Cost: -2.498632812499966\n",
            "Cost: -2.422656249999975\n",
            "Cost: -2.389550781249976\n",
            "Cost: -2.557031249999962\n",
            "Cost: -2.5460937499999603\n",
            "Cost: -2.536621093749969\n",
            "Cost: -2.475585937499976\n",
            "Cost: -2.458203124999971\n",
            "Cost: -2.473632812499969\n",
            "Cost: -2.448828124999968\n",
            "Cost: -2.548339843749966\n",
            "Cost: -2.437207031249973\n",
            "Cost: -2.5051757812499678\n",
            "Cost: -2.4703124999999706\n",
            "Cost: -2.5488281249999636\n",
            "Cost: -2.51357421874997\n",
            "Cost: -2.528320312499968\n",
            "Cost: -2.549121093749969\n",
            "Cost: -2.495898437499964\n",
            "Cost: -2.538378906249964\n",
            "Cost: -2.5625976562499653\n",
            "Cost: -2.538378906249972\n",
            "Cost: -2.5565429687499663\n",
            "Cost: -2.5415039062499702\n",
            "Cost: -2.5168945312499718\n",
            "Cost: -2.496972656249968\n",
            "Cost: -2.520605468749971\n",
            "Cost: -2.549316406249964\n",
            "Cost: -2.486523437499969\n",
            "Cost: -2.4941406249999685\n",
            "Cost: -2.50771484374997\n",
            "Cost: -2.557128906249965\n",
            "Cost: -2.5590820312499627\n",
            "Cost: -2.569335937499969\n",
            "Cost: -2.474707031249972\n",
            "Cost: -2.554492187499966\n",
            "Cost: -2.533496093749968\n",
            "Cost: -2.516601562499962\n",
            "Cost: -2.531933593749966\n",
            "Cost: -2.49492187499997\n",
            "Cost: -2.4788085937499713\n",
            "Cost: -2.5731445312499677\n",
            "Cost: -2.466894531249966\n",
            "Cost: -2.5150390624999686\n",
            "Cost: -2.5289062499999644\n",
            "Cost: -2.508203124999966\n",
            "Cost: -2.5169921874999663\n",
            "Cost: -2.5963867187499616\n",
            "Cost: -2.4912109374999707\n",
            "Cost: -2.514160156249966\n",
            "Cost: -2.55253906249996\n",
            "Cost: -2.5172851562499665\n",
            "Cost: -2.495605468749966\n",
            "Cost: -2.5364257812499655\n",
            "Cost: -2.498632812499972\n",
            "Cost: -2.5614257812499615\n",
            "Cost: -2.5039062499999707\n",
            "Cost: -2.531738281249964\n",
            "Cost: -2.501562499999971\n",
            "Cost: -2.518359374999967\n",
            "Cost: -2.4895507812499633\n",
            "Cost: -2.5415039062499623\n",
            "Cost: -2.4984374999999654\n",
            "Cost: -2.529003906249961\n",
            "Cost: -2.5350585937499663\n",
            "Cost: -2.475195312499972\n",
            "Cost: -2.532714843749963\n",
            "Cost: -2.4937499999999684\n",
            "Cost: -2.4999023437499694\n",
            "Cost: -2.512792968749966\n",
            "Cost: -2.509765624999969\n"
          ],
          "name": "stdout"
        }
      ]
    },
    {
      "cell_type": "code",
      "metadata": {
        "id": "gvJq1Xymfjop"
      },
      "source": [
        "\"\"\"Retrieving top solution in binary--value indicates which set the node belongs to\"\"\"\n",
        "nums_bin = []\n",
        "freq_bin = []\n",
        "\n",
        "### Iterating through all results and calculating frequency of results\n",
        "for i in range(0, len(f)):\n",
        "    # Recording result\n",
        "    if (f[i] in nums_bin):\n",
        "        freq_bin[nums_bin.index(f[i])] += 1\n",
        "    else:\n",
        "        nums_bin.append(f[i])\n",
        "        freq_bin.append(1)\n",
        "top_bin_solution = get_max_and_secondmax(freq_bin, nums_bin, \"No\")"
      ],
      "execution_count": null,
      "outputs": []
    },
    {
      "cell_type": "code",
      "metadata": {
        "colab": {
          "base_uri": "https://localhost:8080/",
          "height": 438
        },
        "id": "e0KD-1y5fjop",
        "outputId": "2ad5a8fc-fade-4548-8e35-0f4d97988cac"
      },
      "source": [
        "nums = []\n",
        "freq = []\n",
        "\n",
        "### Iterating through all results and calculating frequency of results\n",
        "for i in range(0, len(f)):\n",
        "    number = 0\n",
        "    # Converting result bit string into integer value\n",
        "    for j in range(0, len(f[i])):\n",
        "        number += 2**(len(f[i])-j-1)*f[i][j]\n",
        "    # Recording result\n",
        "    if (number in nums):\n",
        "        freq[nums.index(number)] += 1\n",
        "    else:\n",
        "        nums.append(number)\n",
        "        freq.append(1)\n",
        "\n",
        "freq = [s/sum(freq) for s in freq] \n",
        "\n",
        "x = range(0, 2**num)\n",
        "y = []\n",
        "for i in range(0, len(x)):\n",
        "    if (i in nums):\n",
        "        y.append(freq[nums.index(i)])\n",
        "    else:\n",
        "        y.append(0)\n",
        "\n",
        "plt.style.use(\"seaborn\")\n",
        "plt.bar(x, y)\n",
        "plt.show()\n",
        "\n",
        "top_int_solution, second_int_solution = get_max_and_secondmax(freq, nums, \"Yes\")\n",
        "print(f\"\\n --------------------------------------------------------------------------------------------------------------------\\\n",
        "---------- \\n  The two solutions for your weighted max-cut graph is {top_int_solution} \\\n",
        "({np.binary_repr(top_int_solution, width=len(f[100]))}) and {second_int_solution} \\\n",
        "({np.binary_repr(second_int_solution, width=len(f[100]))})!\\n -------------------------------------------------------------\\\n",
        "----------------------------------------------------------------- \\n\")"
      ],
      "execution_count": null,
      "outputs": [
        {
          "output_type": "display_data",
          "data": {
            "image/png": "[encoded data removed]",
            "text/plain": [
              "<Figure size 576x396 with 1 Axes>"
            ]
          },
          "metadata": {
            "tags": []
          }
        },
        {
          "output_type": "stream",
          "text": [
            "\n",
            " ------------------------------------------------------------------------------------------------------------------------------ \n",
            "  The two solutions for your weighted max-cut graph is 76 (1001100) and 51 (0110011)!\n",
            " ------------------------------------------------------------------------------------------------------------------------------ \n",
            "\n"
          ],
          "name": "stdout"
        }
      ]
    },
    {
      "cell_type": "code",
      "metadata": {
        "colab": {
          "base_uri": "https://localhost:8080/",
          "height": 423
        },
        "id": "g1weDrr6fjoq",
        "outputId": "63b03390-6a78-49f3-ec3f-1ad8c77b159d"
      },
      "source": [
        "\"\"\"Visualizing graph with Max-Cut colouring\"\"\"\n",
        "colors = [] #setting up a list of colors\n",
        "for node in top_bin_solution:\n",
        "    if node == 0:\n",
        "        colors.append(\"green\")\n",
        "    else:\n",
        "        colors.append(\"red\")\n",
        "\n",
        "print(f\"Solution graph colouring ({top_int_solution} {top_bin_solution}):\")\n",
        "draw_networkx(colors=colors)"
      ],
      "execution_count": null,
      "outputs": [
        {
          "output_type": "stream",
          "text": [
            "Solution graph colouring (76 [1, 0, 0, 1, 1, 0, 0]):\n"
          ],
          "name": "stdout"
        },
        {
          "output_type": "display_data",
          "data": {
            "image/png": "[encoded data removed]",
            "text/plain": [
              "<Figure size 576x396 with 1 Axes>"
            ]
          },
          "metadata": {
            "tags": []
          }
        }
      ]
    }
  ]
}
